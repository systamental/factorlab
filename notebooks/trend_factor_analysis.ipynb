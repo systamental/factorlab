{
 "cells": [
  {
   "cell_type": "markdown",
   "id": "11b5e808",
   "metadata": {},
   "source": [
    "# Trend Factor Analysis"
   ]
  },
  {
   "cell_type": "markdown",
   "id": "97486724",
   "metadata": {},
   "source": [
    "This notebook walks through a trend factor analysis, for both time series and cross-sectional strategies, in digital assets.\n",
    "\n",
    "We will construct various trend factors and compare their performance across a range of statistical tests and financial evaluation criteria.\n",
    "\n",
    "Trend following is a ubiquitous factor investing strategy and remains one of the best ways to capture convexity in cryptoassets."
   ]
  },
  {
   "cell_type": "markdown",
   "id": "64c4f944",
   "metadata": {},
   "source": [
    "To conduct this analysis, we will use **FactorLab**, an open-source python package we have created specifically for alpha and risk factor analysis. "
   ]
  },
  {
   "cell_type": "markdown",
   "id": "defc9aae",
   "metadata": {},
   "source": [
    "To install **FactorLab**:\n",
    "`pip install factorlab`"
   ]
  },
  {
   "cell_type": "code",
   "execution_count": null,
   "id": "74bc95fc",
   "metadata": {},
   "outputs": [],
   "source": [
    "# uncomment to install factorlab\n",
    "# pip install factorlab"
   ]
  },
  {
   "cell_type": "code",
   "execution_count": null,
   "id": "77d89e84",
   "metadata": {},
   "outputs": [],
   "source": [
    "import pandas as pd\n",
    "import numpy as np\n",
    "from scipy.stats import percentileofscore\n",
    "\n",
    "from factorlab.feature_engineering.transformations import Transform\n",
    "from factorlab.feature_engineering.factors.trend import Trend\n",
    "from factorlab.signal_generation.signal import Signal\n",
    "from factorlab.strategy_analysis.feature_selection import FeatureSelection\n",
    "from factorlab.signal_generation.time_series_analysis import rolling_window, expanding_window, TimeSeriesAnalysis as TSA\n",
    "from factorlab.strategy_analysis.factor_models import FactorModel\n",
    "from factorlab.strategy_backtesting.portfolio_optimization._portfolio_optimization import PortfolioOptimization\n",
    "from factorlab.strategy_analysis.portfolio_sort import PortfolioSort\n",
    "from factorlab.strategy_backtesting.performance import Performance\n",
    "from factorlab.strategy_backtesting.metrics import Metrics\n",
    "from factorlab.data_viz.plot import plot_series, plot_bar, plot_table, plot_scatter, plot_heatmap"
   ]
  },
  {
   "cell_type": "markdown",
   "id": "f7597522",
   "metadata": {},
   "source": [
    "## Data "
   ]
  },
  {
   "cell_type": "markdown",
   "id": "b2f12741",
   "metadata": {},
   "source": [
    "We stitch the following OHLCV prices to create an extended price and funding rate history:\n",
    "\n",
    "- Funding rates and perptual futures OHLC prices from **Binance** futures exchange (2019-present)\n",
    "- OHLC spot prices from **Binance** spot exchange (2017-2019)\n",
    "- OHLC spot prices from **Cryptocompare** (2010-2017)"
   ]
  },
  {
   "cell_type": "code",
   "execution_count": null,
   "id": "eade2538",
   "metadata": {},
   "outputs": [],
   "source": [
    "df = pd.read_csv('binance_historical_ohlcv_daily.csv', index_col=['date', 'ticker'], parse_dates=['date'])"
   ]
  },
  {
   "cell_type": "code",
   "execution_count": null,
   "id": "dcf7be09",
   "metadata": {},
   "outputs": [],
   "source": [
    "print(f'Number of assets: {df.index.get_level_values(1).unique().shape[0]}')"
   ]
  },
  {
   "cell_type": "code",
   "execution_count": null,
   "id": "e305f4d8",
   "metadata": {},
   "outputs": [],
   "source": [
    "# ohlc\n",
    "ohlc = df[['open', 'high', 'low', 'close']]"
   ]
  },
  {
   "cell_type": "code",
   "execution_count": null,
   "id": "1c73232c",
   "metadata": {},
   "outputs": [],
   "source": [
    "ohlc.head()"
   ]
  },
  {
   "cell_type": "markdown",
   "id": "e0bf00ea",
   "metadata": {},
   "source": [
    "## Target and Factor Construction"
   ]
  },
  {
   "cell_type": "markdown",
   "id": "ac38ade8",
   "metadata": {},
   "source": [
    "### Target Returns\n",
    "\n",
    "The **`Transform`** class allows us to easily create target variables with spot price and total returns for our universe of cryptoassets."
   ]
  },
  {
   "cell_type": "code",
   "execution_count": null,
   "id": "bfc734bb",
   "metadata": {},
   "outputs": [],
   "source": [
    "# compute total returns\n",
    "ret_df = Transform(df.close).returns()\n",
    "ret_df = pd.concat([ret_df, df.funding_rate], axis=1).dropna()\n",
    "ret_df['tr'] = ret_df.close.subtract(ret_df.funding_rate, axis=0)"
   ]
  },
  {
   "cell_type": "code",
   "execution_count": null,
   "id": "b2ae6e51",
   "metadata": {},
   "outputs": [],
   "source": [
    "# compute forward returns\n",
    "fwd_spot_ret = Transform(df.close).returns(lags=1, forward=True).to_frame('fwd_ret_1')\n",
    "fwd_spot_ret['fwd_ret_5'] = Transform(df.close).returns(lags=5, forward=True)\n",
    "fwd_spot_ret['fwd_ret_7'] = Transform(df.close).returns(lags=7, forward=True)\n",
    "fwd_spot_ret['fwd_ret_10'] = Transform(df.close).returns(lags=10, forward=True)\n",
    "fwd_spot_ret['fwd_ret_14'] = Transform(df.close).returns(lags=14, forward=True)\n",
    "fwd_spot_ret['fwd_ret_20'] = Transform(df.close).returns(lags=20, forward=True)\n",
    "fwd_spot_ret['fwd_ret_30'] = Transform(df.close).returns(lags=30, forward=True)\n",
    "fwd_spot_ret['fwd_ret_60'] = Transform(df.close).returns(lags=60, forward=True)"
   ]
  },
  {
   "cell_type": "code",
   "execution_count": null,
   "id": "f5b960e8",
   "metadata": {},
   "outputs": [],
   "source": [
    "# compute fwd relative returns\n",
    "fwd_rel_ret = fwd_spot_ret.copy()\n",
    "for col in fwd_rel_ret.columns:\n",
    "    fwd_rel_ret[col] = fwd_spot_ret[col] - fwd_spot_ret[col].groupby('date').mean()"
   ]
  },
  {
   "cell_type": "markdown",
   "id": "becf6861",
   "metadata": {},
   "source": [
    "We can also use the **`Transform`** class to standardize returns and create a market portfolio return."
   ]
  },
  {
   "cell_type": "code",
   "execution_count": null,
   "id": "bd130e6d",
   "metadata": {},
   "outputs": [],
   "source": [
    "# normalize fwd rets\n",
    "fwd_ret_norm = Transform(fwd_spot_ret).normalize(window_type='expanding')\n",
    "fwd_rel_ret_norm = Transform(fwd_rel_ret).normalize(window_type='expanding')"
   ]
  },
  {
   "cell_type": "code",
   "execution_count": null,
   "id": "f3038467",
   "metadata": {},
   "outputs": [],
   "source": [
    "# mkt returns\n",
    "mkt_ret = Transform(df).returns(market=True, mkt_field='close')"
   ]
  },
  {
   "cell_type": "code",
   "execution_count": null,
   "id": "311151cb",
   "metadata": {},
   "outputs": [],
   "source": [
    "mkt_ret.head()"
   ]
  },
  {
   "cell_type": "markdown",
   "id": "4f817cb0",
   "metadata": {},
   "source": [
    "### Trend Factors\n",
    "\n",
    "The **`Trend`** class allows us to use compute a dozen or so trend factor factors across varying lookback windows. "
   ]
  },
  {
   "cell_type": "code",
   "execution_count": null,
   "id": "036ff0e8",
   "metadata": {},
   "outputs": [],
   "source": [
    "# trend factors\n",
    "# breakout\n",
    "trend_df = Trend(ohlc, vwap=True, log=True, lookback=5).breakout()\n",
    "trend_df['breakout_10'] = Trend(ohlc, vwap=True, log=True, lookback=10).breakout()\n",
    "trend_df['breakout_15'] = Trend(ohlc, vwap=True, log=True, lookback=15).breakout()\n",
    "trend_df['breakout_30'] = Trend(ohlc, vwap=True, log=True, lookback=30).breakout()\n",
    "trend_df['breakout_45'] = Trend(ohlc, vwap=True, log=True, lookback=45).breakout()\n",
    "trend_df['breakout_60'] = Trend(ohlc, vwap=True, log=True, lookback=60).breakout()\n",
    "trend_df['breakout_90'] = Trend(ohlc, vwap=True, log=True, lookback=90).breakout()\n",
    "trend_df['breakout_180'] = Trend(ohlc, vwap=True, log=True, lookback=180).breakout()\n",
    "trend_df['breakout_365'] = Trend(ohlc, vwap=True, log=True, lookback=365).breakout()\n",
    "# price mom\n",
    "trend_df['price_mom_5'] = Trend(ohlc, vwap=True, log=True, lookback=5).price_mom()\n",
    "trend_df['price_mom_10'] = Trend(ohlc, vwap=True, log=True, lookback=10).price_mom()\n",
    "trend_df['price_mom_15'] = Trend(ohlc, vwap=True, log=True, lookback=15).price_mom()\n",
    "trend_df['price_mom_30'] = Trend(ohlc, vwap=True, log=True, lookback=30).price_mom()\n",
    "trend_df['price_mom_45'] = Trend(ohlc, vwap=True, log=True, lookback=45).price_mom()\n",
    "trend_df['price_mom_60'] = Trend(ohlc, vwap=True, log=True, lookback=60).price_mom()\n",
    "trend_df['price_mom_90'] = Trend(ohlc, vwap=True, log=True, lookback=90).price_mom()\n",
    "trend_df['price_mom_180'] = Trend(ohlc, vwap=True, log=True, lookback=180).price_mom()\n",
    "trend_df['price_mom_365'] = Trend(ohlc, vwap=True, log=True, lookback=365).price_mom()\n",
    "# moving window diff\n",
    "trend_df['mw_diff_5'] = Trend(ohlc, vwap=True, log=True, lookback=5, sm_window_type='ewm').mw_diff()\n",
    "trend_df['mw_diff_10'] = Trend(ohlc, vwap=True, log=True, lookback=10, sm_window_type='ewm').mw_diff()\n",
    "trend_df['mw_diff_15'] = Trend(ohlc, vwap=True, log=True, lookback=15, sm_window_type='ewm').mw_diff()\n",
    "trend_df['mw_diff_30'] = Trend(ohlc, vwap=True, log=True, lookback=30, sm_window_type='ewm').mw_diff()\n",
    "trend_df['mw_diff_45'] = Trend(ohlc, vwap=True, log=True, lookback=45, sm_window_type='ewm').mw_diff()\n",
    "trend_df['mw_diff_60'] = Trend(ohlc, vwap=True, log=True, lookback=60, sm_window_type='ewm').mw_diff()\n",
    "trend_df['mw_diff_90'] = Trend(ohlc, vwap=True, log=True, lookback=90, sm_window_type='ewm').mw_diff()\n",
    "trend_df['mw_diff_180'] = Trend(ohlc, vwap=True, log=True, lookback=180, sm_window_type='ewm').mw_diff()\n",
    "trend_df['mw_diff_365'] = Trend(ohlc, vwap=True, log=True, lookback=365, sm_window_type='ewm').mw_diff()\n",
    "# divergence\n",
    "trend_df['divergence_5'] = Trend(ohlc, vwap=True, log=True, lookback=5, sm_window_type='ewm').divergence()\n",
    "trend_df['divergence_10'] = Trend(ohlc, vwap=True, log=True, lookback=10, sm_window_type='ewm').divergence()\n",
    "trend_df['divergence_15'] = Trend(ohlc, vwap=True, log=True, lookback=15, sm_window_type='ewm').divergence()\n",
    "trend_df['divergence_30'] = Trend(ohlc, vwap=True, log=True, lookback=30, sm_window_type='ewm').divergence()\n",
    "trend_df['divergence_45'] = Trend(ohlc, vwap=True, log=True, lookback=45, sm_window_type='ewm').divergence()\n",
    "trend_df['divergence_60'] = Trend(ohlc, vwap=True, log=True, lookback=60, sm_window_type='ewm').divergence()\n",
    "trend_df['divergence_90'] = Trend(ohlc, vwap=True, log=True, lookback=90, sm_window_type='ewm').divergence()\n",
    "trend_df['divergence_180'] = Trend(ohlc, vwap=True, log=True, lookback=180, sm_window_type='ewm').divergence()\n",
    "trend_df['divergence_365'] = Trend(ohlc, vwap=True, log=True, lookback=365, sm_window_type='ewm').divergence()\n",
    "# exp weighted mov avg crossover\n",
    "trend_df['ewma_xover_2'] = Trend(ohlc, vwap=True, log=True,).ewma_wxover(s_k=[2, 4, 8], l_k=[6, 12, 24], signal=True)\n",
    "trend_df['ewma_xover_3'] = Trend(ohlc, vwap=True, log=True,).ewma_wxover(s_k=[3, 6, 12], l_k=[9, 18, 36], signal=True)\n",
    "trend_df['ewma_xover_4'] = Trend(ohlc, vwap=True, log=True,).ewma_wxover(s_k=[4, 8, 16], l_k=[12, 24, 48], signal=True)\n",
    "trend_df['ewma_xover_5'] = Trend(ohlc, vwap=True, log=True,).ewma_wxover(s_k=[5, 10, 20], l_k=[15, 30, 60], signal=True)\n",
    "# rsi\n",
    "trend_df['rsi_5'] = Trend(ohlc, vwap=True, log=True, sm_window_type='ewm', lookback=5).rsi()\n",
    "trend_df['rsi_10'] = Trend(ohlc, vwap=True, log=True, sm_window_type='ewm', lookback=10).rsi()\n",
    "trend_df['rsi_15'] = Trend(ohlc, vwap=True, log=True, sm_window_type='ewm', lookback=15).rsi()\n",
    "trend_df['rsi_30'] = Trend(ohlc, vwap=True, log=True, sm_window_type='ewm', lookback=30).rsi()\n",
    "trend_df['rsi_45'] = Trend(ohlc, vwap=True, log=True, sm_window_type='ewm', lookback=45).rsi()\n",
    "trend_df['rsi_60'] = Trend(ohlc, vwap=True, log=True, sm_window_type='ewm', lookback=60).rsi()\n",
    "trend_df['rsi_90'] = Trend(ohlc, vwap=True, log=True, sm_window_type='ewm', lookback=90).rsi()\n",
    "trend_df['rsi_180'] = Trend(ohlc, vwap=True, log=True, sm_window_type='ewm', lookback=180).rsi()\n",
    "trend_df['rsi_365'] = Trend(ohlc, vwap=True, log=True, sm_window_type='ewm', lookback=365).rsi()\n",
    "# stochastic\n",
    "trend_df['stoch_5'] = Trend(ohlc, vwap=True, log=True, sm_window_type='ewm', lookback=5).stochastic()\n",
    "trend_df['stoch_10'] = Trend(ohlc, vwap=True, log=True, sm_window_type='ewm', lookback=10).stochastic()\n",
    "trend_df['stoch_15'] = Trend(ohlc, vwap=True, log=True, sm_window_type='ewm', lookback=15).stochastic()\n",
    "trend_df['stoch_30'] = Trend(ohlc, vwap=True, log=True, sm_window_type='ewm', lookback=30).stochastic()\n",
    "trend_df['stoch_45'] = Trend(ohlc, vwap=True, log=True, sm_window_type='ewm', lookback=45).stochastic()\n",
    "trend_df['stoch_60'] = Trend(ohlc, vwap=True, log=True, sm_window_type='ewm', lookback=60).stochastic()\n",
    "trend_df['stoch_90'] = Trend(ohlc, vwap=True, log=True, sm_window_type='ewm', lookback=90).stochastic()\n",
    "trend_df['stoch_180'] = Trend(ohlc, vwap=True, log=True, sm_window_type='ewm', lookback=180).stochastic()\n",
    "trend_df['stoch_365'] = Trend(ohlc, vwap=True, log=True, sm_window_type='ewm', lookback=365).stochastic()\n",
    "# intensity\n",
    "trend_df['intensity_5'] = Trend(ohlc, vwap=True, log=True, sm_window_type='ewm', lookback=5).intensity()\n",
    "trend_df['intensity_10'] = Trend(ohlc, vwap=True, log=True, sm_window_type='ewm', lookback=10).intensity()\n",
    "trend_df['intensity_15'] = Trend(ohlc, vwap=True, log=True, sm_window_type='ewm', lookback=15).intensity()\n",
    "trend_df['intensity_30'] = Trend(ohlc, vwap=True, log=True, sm_window_type='ewm', lookback=30).intensity()\n",
    "trend_df['intensity_45'] = Trend(ohlc, vwap=True, log=True, sm_window_type='ewm', lookback=45).intensity()\n",
    "trend_df['intensity_60'] = Trend(ohlc, vwap=True, log=True, sm_window_type='ewm', lookback=60).intensity()\n",
    "trend_df['intensity_90'] = Trend(ohlc, vwap=True, log=True, sm_window_type='ewm', lookback=90).intensity()\n",
    "trend_df['intensity_180'] = Trend(ohlc, vwap=True, log=True, sm_window_type='ewm', lookback=180).intensity()\n",
    "trend_df['intensity_365'] = Trend(ohlc, vwap=True, log=True, sm_window_type='ewm', lookback=365).intensity()\n",
    "# time trend\n",
    "trend_df['time_trend_5'] = Trend(ohlc, vwap=True, log=True, lookback=5).time_trend()\n",
    "trend_df['time_trend_10'] = Trend(ohlc, vwap=True, log=True, lookback=10).time_trend()\n",
    "trend_df['time_trend_15'] = Trend(ohlc, vwap=True, log=True, lookback=15).time_trend()\n",
    "trend_df['time_trend_30'] = Trend(ohlc, vwap=True, log=True, lookback=30).time_trend()\n",
    "trend_df['time_trend_45'] = Trend(ohlc, vwap=True, log=True, lookback=45).time_trend()\n",
    "trend_df['time_trend_60'] = Trend(ohlc, vwap=True, log=True, lookback=60).time_trend()\n",
    "trend_df['time_trend_90'] = Trend(ohlc, vwap=True, log=True, lookback=90).time_trend()\n",
    "trend_df['time_trend_180'] = Trend(ohlc, vwap=True, log=True, lookback=180).time_trend()\n",
    "trend_df['time_trend_365'] = Trend(ohlc, vwap=True, log=True, lookback=365).time_trend()\n",
    "# alpha mom\n",
    "trend_df['alpha_mom_5'] = Trend(ohlc, vwap=True, log=True, lookback=5).alpha_mom()\n",
    "trend_df['alpha_mom_10'] = Trend(ohlc, vwap=True, log=True, lookback=10).alpha_mom()\n",
    "trend_df['alpha_mom_15'] = Trend(ohlc, vwap=True, log=True, lookback=15).alpha_mom()\n",
    "trend_df['alpha_mom_30'] = Trend(ohlc, vwap=True, log=True, lookback=30).alpha_mom()\n",
    "trend_df['alpha_mom_45'] = Trend(ohlc, vwap=True, log=True, lookback=45).alpha_mom()\n",
    "trend_df['alpha_mom_60'] = Trend(ohlc, vwap=True, log=True, lookback=60).alpha_mom()\n",
    "trend_df['alpha_mom_90'] = Trend(ohlc, vwap=True, log=True, lookback=90).alpha_mom()\n",
    "trend_df['alpha_mom_180'] = Trend(ohlc, vwap=True, log=True, lookback=180).alpha_mom()\n",
    "trend_df['alpha_mom_365'] = Trend(ohlc, vwap=True, log=True, lookback=365).alpha_mom()\n",
    "# energy\n",
    "trend_df['energy_5'] = Trend(ohlc, vwap=True, log=True, lookback=5).energy()\n",
    "trend_df['energy_10'] = Trend(ohlc, vwap=True, log=True, lookback=10).energy()\n",
    "trend_df['energy_15'] = Trend(ohlc, vwap=True, log=True, lookback=15).energy()\n",
    "trend_df['energy_30'] = Trend(ohlc, vwap=True, log=True, lookback=30).energy()\n",
    "trend_df['energy_45'] = Trend(ohlc, vwap=True, log=True, lookback=45).energy()\n",
    "trend_df['energy_60'] = Trend(ohlc, vwap=True, log=True, lookback=60).energy()\n",
    "trend_df['energy_90'] = Trend(ohlc, vwap=True, log=True, lookback=90).energy()\n",
    "trend_df['energy_180'] = Trend(ohlc, vwap=True, log=True, lookback=180).energy()\n",
    "trend_df['energy_365'] = Trend(ohlc, vwap=True, log=True, lookback=365).energy()"
   ]
  },
  {
   "cell_type": "markdown",
   "id": "1bd5db1d",
   "metadata": {},
   "source": [
    "The **`plot_series`** function from the data_viz.plot module allows us to plot the trend factors for Bitcoin:"
   ]
  },
  {
   "cell_type": "code",
   "execution_count": null,
   "id": "91bea4d9",
   "metadata": {},
   "outputs": [],
   "source": [
    "plot_series(trend_df.loc[:, 'BTC', :].price_mom_30,\n",
    "            title='30 Day Price Momentum',\n",
    "            subtitle='Bitcoin'\n",
    "           )"
   ]
  },
  {
   "cell_type": "markdown",
   "id": "414fe5dc",
   "metadata": {},
   "source": [
    "# Signal Generation"
   ]
  },
  {
   "cell_type": "markdown",
   "id": "030c7640",
   "metadata": {},
   "source": [
    "The **`Signal`** class can be used to convert raw alpha factors to either a time series or cross-sectional trading signals with the **`compute_signals`** method. To initialize the **`Signal`** class, we can use the `returns` and `factors` parameters, and specify the type of strategy with `strategy` to either time series `ts` or cross-sectional `cs` followed by either long/short `ls`, long-only `l` or short-only `s`. \n",
    "\n",
    "The `signal_type` argument in the **`compute_signals`** method can be set to either a continuous signal `signal` with continuous values between -1 and 1 (default), a discrete signal `disc_signal` with discrete values -1, 0, 1, signal quantiles `signal_quantiles` with discrete values between -1 and 1 (e.g. -1, -0.5, 0 , 0.5, 1 for signal_quantiles with `factor_bins` = 5) and signal rank `signal_rank` with values of -1, 0 and 1 for long/short cross-sectional strategies with the top/bottom `n_factors`."
   ]
  },
  {
   "cell_type": "code",
   "execution_count": null,
   "id": "69ecd8f3-33b9-43ae-8643-f0552f184e6c",
   "metadata": {},
   "outputs": [],
   "source": [
    "trend_signals_ts_df = Signal(ret_df.tr, trend_df, strategy='ts_ls', disc_thresh=0).compute_signals(signal_type='signal')"
   ]
  },
  {
   "cell_type": "markdown",
   "id": "80307277",
   "metadata": {},
   "source": [
    "We plot the time series signals for Bitcoin for the price momentum `price_mom_30` trend factor with 30 period window lookback:"
   ]
  },
  {
   "cell_type": "code",
   "execution_count": null,
   "id": "d38162df",
   "metadata": {},
   "outputs": [],
   "source": [
    "plot_series(trend_signals_ts_df.loc[:, 'BTC', :].price_mom_30, \n",
    "            title='Trend Factor: Bitcoin - 30 Day Price Momentum',\n",
    "            subtitle='Time Series Strategy'\n",
    "           )"
   ]
  },
  {
   "cell_type": "code",
   "execution_count": null,
   "id": "a9f0a2d2-c6b0-47b2-8c41-cc561f111b80",
   "metadata": {},
   "outputs": [],
   "source": [
    "trend_signals_cs_df = Signal(ret_df.tr, trend_df, strategy='cs_ls').compute_signals(signal_type='signal')"
   ]
  },
  {
   "cell_type": "markdown",
   "id": "268d2797",
   "metadata": {},
   "source": [
    "We can also plot the cross-sectional signals for Bitcoin, Ethereum and Solana for the price momentum `price_mom_30` trend factor with 30 period window lookback:"
   ]
  },
  {
   "cell_type": "code",
   "execution_count": null,
   "id": "795ead3f",
   "metadata": {},
   "outputs": [],
   "source": [
    "plot_series(trend_signals_cs_df.loc[:, ['BTC', 'ETH', 'SOL'], :].price_mom_30.unstack(), \n",
    "            title='Trend Factor: 30 Day Price Momentum',\n",
    "            subtitle='Cross-sectional Strategy'\n",
    "           )"
   ]
  },
  {
   "cell_type": "markdown",
   "id": "68965045-32b3-44f8-9c18-38300456e8c8",
   "metadata": {},
   "source": [
    "## Signals vs. Forward Returns\n",
    "\n",
    "The **`plot_scatter`** function can be used to plot signals vs. forward returns to visualize the relationship between alpha factor signals and the forward returns."
   ]
  },
  {
   "cell_type": "code",
   "execution_count": null,
   "id": "bdd1c4e3-081a-45f2-a1cb-68a753657df0",
   "metadata": {},
   "outputs": [],
   "source": [
    "# ts trend signal vs. forward returns\n",
    "price_mom_30_ts_signals_vs_ret = pd.concat([trend_signals_ts_df.price_mom_30, fwd_ret_norm.fwd_ret_7], axis=1).dropna()"
   ]
  },
  {
   "cell_type": "code",
   "execution_count": null,
   "id": "8031a565-b37a-4129-a154-9dfb7e573b9b",
   "metadata": {},
   "outputs": [],
   "source": [
    "# ts scatter plot\n",
    "plot_scatter(price_mom_30_ts_signals_vs_ret, x='price_mom_30', y='fwd_ret_7', hue=price_mom_30_ts_signals_vs_ret.fwd_ret_7.abs(), title=f'{trend_signals_ts_df.price_mom_30.name} vs. Forward Returns (Standardized)', subtitle='Time Series Strategy')"
   ]
  },
  {
   "cell_type": "code",
   "execution_count": null,
   "id": "c02edb04",
   "metadata": {},
   "outputs": [],
   "source": [
    "# cs trend signal vs. forward returns\n",
    "price_mom_30_cs_signals_vs_ret = pd.concat([trend_signals_cs_df.price_mom_30, fwd_rel_ret_norm.fwd_ret_7], axis=1).dropna()"
   ]
  },
  {
   "cell_type": "code",
   "execution_count": null,
   "id": "83795d26",
   "metadata": {},
   "outputs": [],
   "source": [
    "# cs scatter plot\n",
    "plot_scatter(price_mom_30_cs_signals_vs_ret, x='price_mom_30', y='fwd_ret_7', hue=price_mom_30_cs_signals_vs_ret.fwd_ret_7.abs(), title=f'{trend_signals_cs_df.price_mom_30.name} vs. Relative Forward Returns (Standardized)', subtitle='Cross-sectional Strategy')"
   ]
  },
  {
   "cell_type": "markdown",
   "id": "0cfc0a53",
   "metadata": {},
   "source": [
    "## Statistical Tests\n",
    "\n",
    "Statistical tests allow us to assess the strenght of the relationship between the alpha factors (features) and foward returns (target variable)."
   ]
  },
  {
   "cell_type": "markdown",
   "id": "eac3b23e",
   "metadata": {},
   "source": [
    "\n",
    "### Feature Selection: \n",
    "Correlation measures, e.g. spearman rank correlation (aka information coefficient), and association measures, e.g. mutul information, allow us to evaluate the predictive relationship between an alpha factors and forward returns.\n",
    "\n",
    "The **`FeatureSelection`** class has a **`filter`** method for both time series `ts` and cross-sectional `cs` strategies which will rank alpha factors on the strength of their relationship with forward returns. The correlation or association measure can be specified by the `method` parameter.\n"
   ]
  },
  {
   "cell_type": "code",
   "execution_count": null,
   "id": "a663da97-f097-42c6-845e-2910cf4b9dfa",
   "metadata": {},
   "outputs": [],
   "source": [
    "FeatureSelection(fwd_ret_norm.fwd_ret_7, trend_signals_ts_df, strategy='ts', feature_bins=5, target_bins=3, window_type='fixed').filter(method='spearman_rank')"
   ]
  },
  {
   "cell_type": "code",
   "execution_count": null,
   "id": "7ff3511c-9e2d-4d14-a0ac-8896178a544d",
   "metadata": {},
   "outputs": [],
   "source": [
    "FeatureSelection(fwd_rel_ret_norm.fwd_ret_7, trend_signals_cs_df, strategy='cs', feature_bins=5, target_bins=3, window_type='fixed').filter(method='spearman_rank')"
   ]
  },
  {
   "cell_type": "markdown",
   "id": "baad510b",
   "metadata": {},
   "source": [
    "### Information Coefficient (IC):\n",
    "The information coefficient **`ic`** method (aka spearman rank correlation) can be computed over a rolling window to allow us to see the change in predictive relationship between the factors and forward returns.\n"
   ]
  },
  {
   "cell_type": "code",
   "execution_count": null,
   "id": "4a49ab70-efec-4acf-a096-4ea59de41cb3",
   "metadata": {},
   "outputs": [],
   "source": [
    "# IC rolling window for time series strategy\n",
    "ic_ts_df = FeatureSelection(fwd_ret_norm.fwd_ret_7, trend_signals_ts_df, strategy='ts', feature_bins=5, target_bins=3, window_size=5).ic(feature='price_mom_30')"
   ]
  },
  {
   "cell_type": "code",
   "execution_count": null,
   "id": "f98bd0e7",
   "metadata": {},
   "outputs": [],
   "source": [
    "plot_series(ic_ts_df.dropna(), \n",
    "            title='30 Day Price Momentum - Information Coefficient',\n",
    "            subtitle='Time series, 365 day rolling window'\n",
    "           )"
   ]
  },
  {
   "cell_type": "code",
   "execution_count": null,
   "id": "d7eee0b3",
   "metadata": {},
   "outputs": [],
   "source": [
    "# IC rolling window for cross sectional strategy\n",
    "ic_cs_df = FeatureSelection(fwd_rel_ret_norm.fwd_ret_7, trend_signals_cs_df, strategy='cs', feature_bins=5, target_bins=3, window_size=30).ic(feature='price_mom_30')"
   ]
  },
  {
   "cell_type": "code",
   "execution_count": null,
   "id": "55ea51ea",
   "metadata": {},
   "outputs": [],
   "source": [
    "plot_series(ic_cs_df.dropna(), \n",
    "            title='Information Coefficient',\n",
    "            subtitle='Cross-sectional, 365 day rolling window'\n",
    "           )"
   ]
  },
  {
   "cell_type": "markdown",
   "id": "977b2b73",
   "metadata": {},
   "source": [
    "### Regressions\n",
    "\n",
    "The **`FactorModel`** class has both a **`pooled_regression`** (time series) and **`fama_macbeth`** method (cross-sectional) which can be used to assess he statistical and economic significance of factors by regressing them on forward returns."
   ]
  },
  {
   "cell_type": "code",
   "execution_count": null,
   "id": "d2c1d72b-b368-40a4-8753-4a5950b03a6a",
   "metadata": {},
   "outputs": [],
   "source": [
    "# pooled regression for time series \n",
    "FactorModel(fwd_ret_norm.fwd_ret_7, trend_signals_ts_df, strategy='ts').pooled_regression(multivariate=False)"
   ]
  },
  {
   "cell_type": "code",
   "execution_count": null,
   "id": "af3ec0d9",
   "metadata": {},
   "outputs": [],
   "source": [
    "# cross sectional fama-macbeth\n",
    "FactorModel(fwd_rel_ret_norm.fwd_ret_7, trend_signals_cs_df, strategy='cs').fama_macbeth_regression(multivariate=False)"
   ]
  },
  {
   "cell_type": "markdown",
   "id": "c9c7d7b1",
   "metadata": {},
   "source": [
    "## Signal Returns\n",
    "\n",
    "The **`Signal`** class has a **`compute_signal_returns`** method which can compute alpha factor returns, signals * next period return. "
   ]
  },
  {
   "cell_type": "code",
   "execution_count": null,
   "id": "cc38b0fd",
   "metadata": {},
   "outputs": [],
   "source": [
    "# trend signal ts returns\n",
    "trend_signals_ts_ret = Signal(ret_df.tr, trend_df, strategy='ts_ls').compute_signal_returns(signal_type='signal')"
   ]
  },
  {
   "cell_type": "code",
   "execution_count": null,
   "id": "488a2143",
   "metadata": {},
   "outputs": [],
   "source": [
    "# asset specific trend signal\n",
    "asset = 'BTC'\n",
    "trend_signal_ts_ret = trend_signals_ts_ret.loc[:, asset, :]"
   ]
  },
  {
   "cell_type": "code",
   "execution_count": null,
   "id": "eb2a99ab",
   "metadata": {},
   "outputs": [],
   "source": [
    "# ts trend signal performance\n",
    "trend_signal_ts_perf_table = Performance(trend_signal_ts_ret, mkt_ret=mkt_ret, ret_type='log').get_table(metrics='all', rank_on='Sharpe ratio')"
   ]
  },
  {
   "cell_type": "code",
   "execution_count": null,
   "id": "b02a3229",
   "metadata": {},
   "outputs": [],
   "source": [
    "trend_signal_ts_perf_table.iloc[:20]"
   ]
  },
  {
   "cell_type": "code",
   "execution_count": null,
   "id": "a179518b",
   "metadata": {},
   "outputs": [],
   "source": [
    "trend_signal_ts_perf_table['Sharpe ratio'].plot(kind='hist');"
   ]
  },
  {
   "cell_type": "code",
   "execution_count": null,
   "id": "dc0b8c8a",
   "metadata": {},
   "outputs": [],
   "source": [
    "# buy & hold asset\n",
    "hodl_perf = Metrics(ret_df.tr.loc[:, asset, :]).sharpe_ratio().tr\n",
    "hodl_perf.round(2)"
   ]
  },
  {
   "cell_type": "code",
   "execution_count": null,
   "id": "7e2d13c9",
   "metadata": {},
   "outputs": [],
   "source": [
    "# percentile rank of the buy and hold Sharpe ratio\n",
    "percentile = percentileofscore(trend_signal_ts_perf_table['Sharpe ratio'], hodl_perf)\n",
    "print(f'Hodling is outperformed by {100 - percentile.round(2)}% of trend factor signals in {asset}.')"
   ]
  },
  {
   "cell_type": "code",
   "execution_count": null,
   "id": "4cfcef6c",
   "metadata": {},
   "outputs": [],
   "source": [
    "# ts trend cum returns \n",
    "trend_signal_ts_cum_ret = Metrics(trend_signal_ts_ret, mkt_ret=mkt_ret, ret_type='log', window_type='expanding').cumulative_returns()"
   ]
  },
  {
   "cell_type": "code",
   "execution_count": null,
   "id": "d390eea6",
   "metadata": {},
   "outputs": [],
   "source": [
    "plot_series(trend_signal_ts_cum_ret, \n",
    "            y_label='Cumulative returns', \n",
    "            title=f'Trend Signal: {asset}',\n",
    "            subtitle='Time Series Strategy',\n",
    "           )"
   ]
  },
  {
   "cell_type": "markdown",
   "id": "aa68d7b5",
   "metadata": {},
   "source": [
    "# Strategy Portfolio Returns\n",
    "\n",
    "The **`PortfolioOptimization`** class includes over a dozen portfolio optimizers which allow the computation of optimal asset weights:"
   ]
  },
  {
   "cell_type": "code",
   "execution_count": null,
   "id": "131b5e09",
   "metadata": {},
   "outputs": [],
   "source": [
    "PortfolioOptimization(trend_signals_ts_ret).get_available_optimizers()"
   ]
  },
  {
   "cell_type": "markdown",
   "id": "a042f852",
   "metadata": {},
   "source": [
    "## Time Series Strategies\n",
    "\n",
    "We can create an instance of the **`PortfolioOptimization`** class. Instance attributes include optimization methods `method`, transaction cost `t_cost`, rebalancing frequency `rebal_freq`, window type `window_type` and window size `window_size`.\n",
    "\n",
    "Below, we use create a instance with equal weights, t-costs of 20 bps, rebalanced weekly over a lookback window size of 180 periods."
   ]
  },
  {
   "cell_type": "code",
   "execution_count": null,
   "id": "0fa35252",
   "metadata": {},
   "outputs": [],
   "source": [
    "# ts trend signal returns\n",
    "trend_signals_ts_ret = Signal(ret_df.tr, trend_df, strategy='ts_ls').compute_signal_returns(signal_type='signal')"
   ]
  },
  {
   "cell_type": "code",
   "execution_count": null,
   "id": "18e06e31",
   "metadata": {},
   "outputs": [],
   "source": [
    "# ts trend portfolio optimization instance\n",
    "port_opt = PortfolioOptimization(trend_signals_ts_ret, \n",
    "                                 method='equal_weight', \n",
    "                                 t_cost=0.002, \n",
    "                                 rebal_freq=7, \n",
    "                                 window_type='rolling',\n",
    "                                 window_size=180)"
   ]
  },
  {
   "cell_type": "code",
   "execution_count": null,
   "id": "c1e4ee77-6ce8-4fe6-a5e0-d41b4acdbda3",
   "metadata": {},
   "outputs": [],
   "source": [
    "# ts trend portfolio returns\n",
    "trend_ts_port_ret = port_opt.compute_portfolio_returns()"
   ]
  },
  {
   "cell_type": "code",
   "execution_count": null,
   "id": "9ff6e6d3",
   "metadata": {},
   "outputs": [],
   "source": [
    "# ts trend portfolio performance\n",
    "trend_ts_port_perf_table = Performance(trend_ts_port_ret, mkt_ret=mkt_ret, ret_type='log').get_table(metrics='all', rank_on='Sharpe ratio')"
   ]
  },
  {
   "cell_type": "code",
   "execution_count": null,
   "id": "f1c137c9",
   "metadata": {},
   "outputs": [],
   "source": [
    "trend_ts_port_perf_table.iloc[:20]"
   ]
  },
  {
   "cell_type": "code",
   "execution_count": null,
   "id": "36cdcbcf-f057-4b2e-a096-28df89a799ac",
   "metadata": {},
   "outputs": [],
   "source": [
    "# ts trend cum returns \n",
    "trend_ts_cum_ret = Metrics(trend_ts_port_ret.fillna(0), mkt_ret=mkt_ret, ret_type='log', window_type='expanding').cumulative_returns()"
   ]
  },
  {
   "cell_type": "code",
   "execution_count": null,
   "id": "8b3f575e",
   "metadata": {},
   "outputs": [],
   "source": [
    "plot_series(trend_ts_cum_ret,             \n",
    "            y_label='Cumulative returns', \n",
    "            title='Trend Factor: Portfolio Returns',\n",
    "            subtitle='Time Series')"
   ]
  },
  {
   "cell_type": "code",
   "execution_count": null,
   "id": "7bdf9b74",
   "metadata": {},
   "outputs": [],
   "source": [
    "trend_ts_port_perf_table.mean()"
   ]
  },
  {
   "cell_type": "markdown",
   "id": "2ab17a67",
   "metadata": {},
   "source": [
    "## Cross-Sectional Strategies\n",
    "\n",
    "Cross-sectional strategies sorts assets into portfolios based on their cross-sectional factor values (i.e. relative factor values at each timestamp). Signals for each portfolio can be continuous (from 1 to -1) `signal`, discrete (1, 0, -1) `disc_signal` for the top and bottom quantiles, signal quantiles (e.g. 1, 0.5, 0, -0.5, -1) `signal_quantiles` scaled on factor quantiles, or signal rank `signal_rank` which ranks factor values by top/bottom n assets."
   ]
  },
  {
   "cell_type": "code",
   "execution_count": null,
   "id": "e32bb564",
   "metadata": {},
   "outputs": [],
   "source": [
    "# trend signal cs returns\n",
    "trend_signals_cs_ret = Signal(ret_df.tr, trend_df, strategy='cs_ls').compute_signal_returns(signal_type='signal')"
   ]
  },
  {
   "cell_type": "code",
   "execution_count": null,
   "id": "4293d56e-4835-4d52-b1c1-3efea93d79c3",
   "metadata": {},
   "outputs": [],
   "source": [
    "# cs trend portfolio returns\n",
    "trend_cs_port_ret = PortfolioOptimization(trend_signals_cs_ret, \n",
    "                                          method='equal_weight', \n",
    "                                          t_cost=0.002, \n",
    "                                          rebal_freq=7, \n",
    "                                          window_type='rolling',\n",
    "                                          window_size=180).compute_portfolio_returns()"
   ]
  },
  {
   "cell_type": "code",
   "execution_count": null,
   "id": "15fc74cd",
   "metadata": {},
   "outputs": [],
   "source": [
    "# cs trend portfolio performance\n",
    "trend_cs_port_perf_table = Performance(trend_cs_port_ret, mkt_ret=mkt_ret, ret_type='log').get_table(metrics='all', rank_on='Sharpe ratio')"
   ]
  },
  {
   "cell_type": "code",
   "execution_count": null,
   "id": "fafe716f",
   "metadata": {},
   "outputs": [],
   "source": [
    "trend_cs_port_perf_table"
   ]
  },
  {
   "cell_type": "code",
   "execution_count": null,
   "id": "783831dc-b0c6-435b-8608-63a74d8b2f59",
   "metadata": {},
   "outputs": [],
   "source": [
    "# cs trend cum returns\n",
    "trend_cs_cum_ret = Metrics(trend_cs_port_ret.fillna(0), mkt_ret=mkt_ret, ret_type='log', window_type='expanding').cumulative_returns()"
   ]
  },
  {
   "cell_type": "code",
   "execution_count": null,
   "id": "bde33651-03bd-40df-9bc7-80e2ed77e0d3",
   "metadata": {},
   "outputs": [],
   "source": [
    "plot_series(trend_cs_cum_ret.dropna(),            \n",
    "            y_label='Cumulative returns', \n",
    "            title='Trend Factor: Portfolio Returns',\n",
    "            subtitle='Cross-sectional')"
   ]
  },
  {
   "cell_type": "code",
   "execution_count": null,
   "id": "f95a06cf",
   "metadata": {},
   "outputs": [],
   "source": [
    "trend_cs_port_perf_table.mean()"
   ]
  },
  {
   "cell_type": "markdown",
   "id": "5fb0713e",
   "metadata": {},
   "source": [
    "## Dual Strategies\n",
    "Dual strategies (e.g. dual momentum) go long/short assets with factors that are high/low in both the cross section (relative to other assets) and in the time series (relative to the asset's own history). Dual strategies can enhance risk-adjusted returns by combining both time series and cross sectional strategies."
   ]
  },
  {
   "cell_type": "code",
   "execution_count": null,
   "id": "a853e978",
   "metadata": {},
   "outputs": [],
   "source": [
    "# trend signal dual returns\n",
    "trend_signals_dual_ret = Signal(ret_df.tr, trend_df, strategy='dual_ls').compute_signal_returns(signal_type='signal', dual_summary_stat='sum')"
   ]
  },
  {
   "cell_type": "code",
   "execution_count": null,
   "id": "f75dfbd2",
   "metadata": {},
   "outputs": [],
   "source": [
    "# trend dual portfolio returns\n",
    "trend_dual_port_ret = PortfolioOptimization(trend_signals_dual_ret, \n",
    "                                            method='equal_weight', \n",
    "                                            t_cost=0.002, \n",
    "                                            rebal_freq=7, \n",
    "                                            window_type='rolling',\n",
    "                                            window_size=180).compute_portfolio_returns()"
   ]
  },
  {
   "cell_type": "code",
   "execution_count": null,
   "id": "00cc8c49",
   "metadata": {},
   "outputs": [],
   "source": [
    "# dual trend portfolio performance\n",
    "trend_dual_port_perf_table = Performance(trend_dual_port_ret, mkt_ret=mkt_ret, ret_type='log').get_table(metrics='all', rank_on='Sharpe ratio')"
   ]
  },
  {
   "cell_type": "code",
   "execution_count": null,
   "id": "1fdbceaf",
   "metadata": {},
   "outputs": [],
   "source": [
    "trend_dual_port_perf_table[:20]"
   ]
  },
  {
   "cell_type": "code",
   "execution_count": null,
   "id": "3c065c2b",
   "metadata": {},
   "outputs": [],
   "source": [
    "# dual trend cum returns\n",
    "trend_dual_cum_ret = Metrics(trend_dual_port_ret, mkt_ret=mkt_ret, ret_type='log', window_type='expanding').cumulative_returns()"
   ]
  },
  {
   "cell_type": "code",
   "execution_count": null,
   "id": "57c8410e",
   "metadata": {},
   "outputs": [],
   "source": [
    "plot_series(trend_dual_cum_ret.dropna(),            \n",
    "            y_label='Cumulative returns', \n",
    "            title='Trend Factor: Portfolio Returns',\n",
    "            subtitle='Dual Momentum')"
   ]
  },
  {
   "cell_type": "code",
   "execution_count": null,
   "id": "43d6ddf6",
   "metadata": {},
   "outputs": [],
   "source": [
    "trend_dual_port_perf_table.mean()"
   ]
  },
  {
   "cell_type": "markdown",
   "id": "44a5a522",
   "metadata": {},
   "source": [
    "# Portfolio Sorts\n",
    "\n",
    "The **`PortfolioSort`** class allows us to sort returns into quantile portfolio returns which provide a measure of alpha factor performance. The **`compute_quantile_portfolios`** method compute quantile portfolio returns, and the **`performance`** method computes a performance `metric` for those quantile portfolio returns using any of the measures from the `Metrics` class.\n",
    "\n",
    "Quantile portfolio returns can be used to:\n",
    "\n",
    "- Analyze the robustness of alpha factors. Returns which increase monotonically with quantiles are likely to be more reliable that those with positive but non-monotonic relationships.\n",
    "- Explore the potential interaction between alpha factors with double portfolio sorts in order to discover conditional alpha factors, e.g. a double sort of the trend factor and size factor to analyze how trend factor performance changes by asset size.\n",
    "- Explore the relationship between time series and cross-sectional factors, and the interaction between the two (i.e. dual strategies). E.g. a time series trend factor conditioned on the cross-sectional trend factor can enhance performance if it leads to a stronger signal. \n"
   ]
  },
  {
   "cell_type": "markdown",
   "id": "abd5811f",
   "metadata": {},
   "source": [
    "## Single Portfolio Sort "
   ]
  },
  {
   "cell_type": "markdown",
   "id": "a1b418f6",
   "metadata": {},
   "source": [
    "### Time Series Strategy"
   ]
  },
  {
   "cell_type": "code",
   "execution_count": null,
   "id": "7237cc76",
   "metadata": {},
   "outputs": [],
   "source": [
    "port_sort = PortfolioSort(ret_df.tr, \n",
    "                   trend_df[[trend_ts_port_perf_table.iloc[0].name]], \n",
    "                   factor_bins={trend_ts_port_perf_table.iloc[0].name: ('ts', 3)},\n",
    "                   fill_na=True\n",
    "                  )"
   ]
  },
  {
   "cell_type": "code",
   "execution_count": null,
   "id": "7efde4c8-4159-4ff4-b159-5b26012ec64e",
   "metadata": {},
   "outputs": [],
   "source": [
    "trend_ts_quantile_port = port_sort.compute_quantile_portfolios()"
   ]
  },
  {
   "cell_type": "code",
   "execution_count": null,
   "id": "ae789045-c21a-4b0f-bbf1-e1b051ba274a",
   "metadata": {},
   "outputs": [],
   "source": [
    "plot_series(trend_ts_quantile_port[trend_ts_port_perf_table.iloc[0].name].unstack().cumsum(),             \n",
    "            title=f\"Factor: {trend_ts_port_perf_table.iloc[0].name}\",\n",
    "            subtitle=f\"Time Series Quantiles Portfolio Returns\",\n",
    "            y_label='Cumulative Log Returns')"
   ]
  },
  {
   "cell_type": "code",
   "execution_count": null,
   "id": "b6a23a3d",
   "metadata": {},
   "outputs": [],
   "source": [
    "trend_ts_quantile_perf = PortfolioSort(ret_df.tr, \n",
    "                   trend_df[[trend_ts_port_perf_table.iloc[0].name]], \n",
    "                   factor_bins={trend_ts_port_perf_table.iloc[0].name: ('ts', 3)},\n",
    "                   fill_na=True\n",
    "                  ).performance()"
   ]
  },
  {
   "cell_type": "code",
   "execution_count": null,
   "id": "0f4f5ea7",
   "metadata": {},
   "outputs": [],
   "source": [
    "plot_bar(trend_ts_quantile_perf,\n",
    "         axis='horizontal',\n",
    "         title=f\"Factor: {trend_ts_port_perf_table.iloc[0].name}\",\n",
    "         subtitle=f\"Time Series Quantiles Portfolio Returns\",\n",
    "         y_label='Quantile',\n",
    "         x_label='Sharpe ratio'\n",
    "        )"
   ]
  },
  {
   "cell_type": "markdown",
   "id": "d8d19767",
   "metadata": {},
   "source": [
    "### Cross-sectional Strategy"
   ]
  },
  {
   "cell_type": "code",
   "execution_count": null,
   "id": "8f8daf4a-ada2-4c8e-8a1e-08e2c8029eff",
   "metadata": {},
   "outputs": [],
   "source": [
    "trend_cs_quantile_port = PortfolioSort(ret_df.tr, \n",
    "                   trend_df[[trend_cs_port_perf_table.iloc[0].name]], \n",
    "                   factor_bins={trend_cs_port_perf_table.iloc[0].name: ('cs', 3)},\n",
    "                   fill_na=True\n",
    "                  ).compute_quantile_portfolios()"
   ]
  },
  {
   "cell_type": "code",
   "execution_count": null,
   "id": "496056c6-e976-4b71-8868-c26a47339fdf",
   "metadata": {},
   "outputs": [],
   "source": [
    "plot_series(trend_cs_quantile_port[trend_cs_port_perf_table.iloc[0].name].unstack().cumsum(),             \n",
    "            title=f\"Trend Factor: {trend_cs_port_perf_table.iloc[0].name}\",\n",
    "            subtitle=f\"Cross-sectional Quantiles Portfolio Returns\",\n",
    "            y_label='Cumulative Log Returns')"
   ]
  },
  {
   "cell_type": "code",
   "execution_count": null,
   "id": "95d8ae12-303e-4b38-ae79-5c1bab33f77e",
   "metadata": {},
   "outputs": [],
   "source": [
    "trend_cs_quantile_perf = PortfolioSort(ret_df.tr, \n",
    "                   trend_df[[trend_cs_port_perf_table.iloc[0].name]], \n",
    "                   factor_bins={trend_cs_port_perf_table.iloc[0].name: ('cs', 3)},\n",
    "                   fill_na=True\n",
    "                  ).performance()"
   ]
  },
  {
   "cell_type": "code",
   "execution_count": null,
   "id": "7d1c5cff",
   "metadata": {},
   "outputs": [],
   "source": [
    "plot_bar(trend_cs_quantile_perf,\n",
    "         axis='horizontal',\n",
    "         title=f\"Factor: {trend_cs_port_perf_table.iloc[0].name}\",\n",
    "         subtitle=f\"Cross-sectional Quantiles Portfolio Returns\",\n",
    "         y_label='Quantile',\n",
    "         x_label='Sharpe ratio'\n",
    "        )"
   ]
  },
  {
   "cell_type": "markdown",
   "id": "ff23b971",
   "metadata": {},
   "source": [
    "## Double Portfolio Sort"
   ]
  },
  {
   "cell_type": "code",
   "execution_count": null,
   "id": "b98bdc2e",
   "metadata": {},
   "outputs": [],
   "source": [
    "trend_dual_quantile_port = PortfolioSort(ret_df.tr, \n",
    "                   trend_df[['breakout_10' , 'breakout_5']], \n",
    "                   factor_bins={'breakout_10': ('ts', 3), 'breakout_5': ('cs', 3)\n",
    "                               },\n",
    "                   fill_na=True\n",
    "                  ).compute_quantile_portfolios()"
   ]
  },
  {
   "cell_type": "code",
   "execution_count": null,
   "id": "03f46a09",
   "metadata": {},
   "outputs": [],
   "source": [
    "plot_series(trend_dual_quantile_port.unstack().cumsum(),             \n",
    "            title=f\"Trend Factor: Breakout\",\n",
    "            subtitle=f\"Quantiles Portfolio Returns\",\n",
    "            y_label='Cumulative Log Returns')"
   ]
  },
  {
   "cell_type": "code",
   "execution_count": null,
   "id": "3c1173fd",
   "metadata": {},
   "outputs": [],
   "source": [
    "trend_dual_quantile_perf = PortfolioSort(ret_df.tr, \n",
    "                   trend_df[['breakout_5' , 'breakout_10']], \n",
    "                   factor_bins={'breakout_10': ('ts', 3), 'breakout_5': ('cs', 3)\n",
    "                               },\n",
    "                   fill_na=True\n",
    "                  ).performance(metric='sharpe_ratio')"
   ]
  },
  {
   "cell_type": "code",
   "execution_count": null,
   "id": "bcb87c0d",
   "metadata": {},
   "outputs": [],
   "source": [
    "plot_heatmap(trend_dual_quantile_perf,\n",
    "             title=f\"Double Portfolio Sort\",\n",
    "             subtitle=f\"Quantile Portfolio Returns - Sharpe Ratio\",\n",
    "            )"
   ]
  },
  {
   "cell_type": "markdown",
   "id": "1f02c876",
   "metadata": {},
   "source": [
    "# Parameter Robustness"
   ]
  },
  {
   "cell_type": "code",
   "execution_count": null,
   "id": "084899ae",
   "metadata": {},
   "outputs": [],
   "source": []
  },
  {
   "cell_type": "markdown",
   "id": "8f9682b5",
   "metadata": {},
   "source": [
    "## Parameter Grid Search"
   ]
  },
  {
   "cell_type": "code",
   "execution_count": null,
   "id": "20f0b30f",
   "metadata": {},
   "outputs": [],
   "source": []
  },
  {
   "cell_type": "markdown",
   "id": "dcc8aac8",
   "metadata": {},
   "source": [
    "### Time Series\n",
    "We explore the parameter space for the best performing time series trend strategy."
   ]
  },
  {
   "cell_type": "code",
   "execution_count": null,
   "id": "4bebb56f",
   "metadata": {},
   "outputs": [],
   "source": []
  },
  {
   "cell_type": "markdown",
   "id": "8b144180",
   "metadata": {},
   "source": [
    "### Cross Sectional\n",
    "\n",
    "We explore the parameter space for the best performing cross-sectional trend strategy."
   ]
  },
  {
   "cell_type": "code",
   "execution_count": null,
   "id": "ece0471c",
   "metadata": {},
   "outputs": [],
   "source": []
  },
  {
   "cell_type": "markdown",
   "id": "070533f8",
   "metadata": {},
   "source": [
    "## Trend Dashboard"
   ]
  },
  {
   "cell_type": "code",
   "execution_count": null,
   "id": "4b35d87a",
   "metadata": {},
   "outputs": [],
   "source": [
    "trend_dual_signals_df = Signal(ret_df.tr, trend_df, strategy='dual_ls').compute_dual_signals(signal_type='signal', summary_stat='sum')"
   ]
  },
  {
   "cell_type": "code",
   "execution_count": null,
   "id": "9f144409",
   "metadata": {},
   "outputs": [],
   "source": [
    "breakout10_signals_bar = trend_dual_signals_df.breakout_10.unstack().iloc[-1].sort_values().dropna()"
   ]
  },
  {
   "cell_type": "code",
   "execution_count": null,
   "id": "ebae7f2e",
   "metadata": {},
   "outputs": [],
   "source": [
    "plot_bar(pd.concat([breakout10_signals_bar[:10], breakout10_signals_bar[-10:]], axis=1), \n",
    "         title=\"Trend Signals\",\n",
    "         subtitle=f\"Breakout 10 day - {trend_df.iloc[-1].name[0].date()}\",\n",
    "         axis='horizontal', \n",
    "         y_label='ticker', \n",
    "         x_label='signal', \n",
    "         add_logo=True,\n",
    "        )"
   ]
  }
 ],
 "metadata": {
  "kernelspec": {
   "display_name": "factorlab",
   "language": "python",
   "name": "factorlab"
  },
  "language_info": {
   "codemirror_mode": {
    "name": "ipython",
    "version": 3
   },
   "file_extension": ".py",
   "mimetype": "text/x-python",
   "name": "python",
   "nbconvert_exporter": "python",
   "pygments_lexer": "ipython3",
   "version": "3.9.13"
  },
  "toc": {
   "base_numbering": 1,
   "nav_menu": {},
   "number_sections": true,
   "sideBar": true,
   "skip_h1_title": false,
   "title_cell": "Table of Contents",
   "title_sidebar": "Contents",
   "toc_cell": false,
   "toc_position": {},
   "toc_section_display": true,
   "toc_window_display": false
  }
 },
 "nbformat": 4,
 "nbformat_minor": 5
}
