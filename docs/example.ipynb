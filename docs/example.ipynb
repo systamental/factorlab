{
 "cells": [
  {
   "cell_type": "markdown",
   "metadata": {},
   "source": [
    "# FactorLab\n",
    "## Go from Idea to Alpha in Fewer Lines of Code\n",
    "\n",
    "**FactorLab** enables the transformation of raw data into informative alpha and risk factors used in the investment algorithm development process.\n",
    "\n",
    "In this notebook, we will walk through how to use **FactorLab** to construct an alpha factor and backtest it's performance.\n"
   ]
  },
  {
   "cell_type": "code",
   "execution_count": 2,
   "metadata": {},
   "outputs": [
    {
     "name": "stdout",
     "output_type": "stream",
     "text": [
      "0.1.10\n"
     ]
    }
   ],
   "source": [
    "import factorlab\n",
    "\n",
    "print(factorlab.__version__)"
   ]
  }
 ],
 "metadata": {
  "kernelspec": {
   "display_name": "Python 3 (ipykernel)",
   "language": "python",
   "name": "python3"
  },
  "language_info": {
   "codemirror_mode": {
    "name": "ipython",
    "version": 3
   },
   "file_extension": ".py",
   "mimetype": "text/x-python",
   "name": "python",
   "nbconvert_exporter": "python",
   "pygments_lexer": "ipython3",
   "version": "3.9.13"
  }
 },
 "nbformat": 4,
 "nbformat_minor": 4
}
